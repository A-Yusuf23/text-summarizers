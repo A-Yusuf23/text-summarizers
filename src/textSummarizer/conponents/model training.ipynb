{
 "cells": [
  {
   "cell_type": "code",
   "execution_count": 5,
   "id": "9071cd56",
   "metadata": {},
   "outputs": [],
   "source": [
    "import nltk\n",
    "from nltk.corpus import brown\n",
    "from nltk.util import bigrams, ngrams\n",
    "from nltk.metrics import edit_distance\n",
    "from flask import Flask, render_template, request, jsonify\n",
    "import numpy as np\n",
    "from sklearn.metrics.pairwise import cosine_similarity"
   ]
  },
  {
   "cell_type": "code",
   "execution_count": 6,
   "id": "d45bc417",
   "metadata": {},
   "outputs": [
    {
     "name": "stderr",
     "output_type": "stream",
     "text": [
      "[nltk_data] Downloading package brown to\n",
      "[nltk_data]     C:\\Users\\hp\\AppData\\Roaming\\nltk_data...\n",
      "[nltk_data]   Unzipping corpora\\brown.zip.\n"
     ]
    },
    {
     "data": {
      "text/plain": [
       "True"
      ]
     },
     "execution_count": 6,
     "metadata": {},
     "output_type": "execute_result"
    }
   ],
   "source": [
    "nltk.download('brown')"
   ]
  },
  {
   "cell_type": "code",
   "execution_count": 7,
   "id": "a6f05f4f",
   "metadata": {},
   "outputs": [],
   "source": [
    "corpus = brown.words()"
   ]
  },
  {
   "cell_type": "code",
   "execution_count": 8,
   "id": "d5d08cab",
   "metadata": {},
   "outputs": [],
   "source": [
    "bigram_model = list(bigrams(corpus))\n",
    "trigram_model = list(ngrams(corpus, 3))"
   ]
  },
  {
   "cell_type": "code",
   "execution_count": 9,
   "id": "e586d59e",
   "metadata": {},
   "outputs": [],
   "source": [
    "def predict_next_word_bigram(word):\n",
    "    candidates = [next_word for (prev_word, next_word) in bigram_model if prev_word == word]\n",
    "    return max(set(candidates), key=candidates.count)"
   ]
  },
  {
   "cell_type": "code",
   "execution_count": 10,
   "id": "118f9735",
   "metadata": {},
   "outputs": [],
   "source": [
    "def predict_next_word_trigram(word1, word2):\n",
    "    candidates = [next_word for (w1, w2, next_word) in trigram_model if w1 == word1 and w2 == word2]\n",
    "    return max(set(candidates), key=candidates.count)"
   ]
  },
  {
   "cell_type": "code",
   "execution_count": 14,
   "id": "b3970d47",
   "metadata": {},
   "outputs": [],
   "source": [
    "def suggest_emoticons(tokens):\n",
    "    # Implement GloVe vector mapping and cosine similarity calculation\n",
    "    # Return the emoticon with the highest cosine similarity\n",
    "    pass"
   ]
  },
  {
   "cell_type": "code",
   "execution_count": null,
   "id": "33dcf905",
   "metadata": {},
   "outputs": [],
   "source": []
  }
 ],
 "metadata": {
  "kernelspec": {
   "display_name": "Python 3 (ipykernel)",
   "language": "python",
   "name": "python3"
  },
  "language_info": {
   "codemirror_mode": {
    "name": "ipython",
    "version": 3
   },
   "file_extension": ".py",
   "mimetype": "text/x-python",
   "name": "python",
   "nbconvert_exporter": "python",
   "pygments_lexer": "ipython3",
   "version": "3.11.4"
  }
 },
 "nbformat": 4,
 "nbformat_minor": 5
}
